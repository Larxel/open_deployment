{
 "cells": [
  {
   "cell_type": "markdown",
   "metadata": {},
   "source": [
    "# Deploying Mtcars Model into Production"
   ]
  },
  {
   "cell_type": "markdown",
   "metadata": {},
   "source": [
    "In this example, we'll create a simple random forest model on the `mtcars` dataset and prepare it for deployment as a google cloud function."
   ]
  },
  {
   "cell_type": "code",
   "execution_count": 1,
   "metadata": {},
   "outputs": [],
   "source": [
    "import pandas as pd\n",
    "from sklearn.ensemble        import RandomForestRegressor\n",
    "from sklearn.model_selection import train_test_split\n",
    "from sklearn.metrics         import mean_squared_error, mean_absolute_error\n",
    "from sklearn.externals       import joblib"
   ]
  },
  {
   "cell_type": "markdown",
   "metadata": {},
   "source": [
    "## Data Preparation"
   ]
  },
  {
   "cell_type": "code",
   "execution_count": 2,
   "metadata": {},
   "outputs": [],
   "source": [
    "# Download and read data\n",
    "mtcars   = 'https://gist.githubusercontent.com/seankross/a412dfbd88b3db70b74b/raw/5f23f993cd87c283ce766e7ac6b329ee7cc2e1d1/mtcars.csv'\n",
    "raw_data = pd.read_csv(mtcars)"
   ]
  },
  {
   "cell_type": "code",
   "execution_count": 4,
   "metadata": {},
   "outputs": [],
   "source": [
    "# Drop car name column\n",
    "raw_data.drop('model', inplace=True, axis=1)\n",
    "\n",
    "# Split into training and testing set\n",
    "train, test = train_test_split(raw_data,\n",
    "                               test_size=0.3,\n",
    "                               random_state=451)\n",
    "# Separe target column\n",
    "train_y = train.pop('mpg')\n",
    "test_y  = test.pop('mpg')"
   ]
  },
  {
   "cell_type": "markdown",
   "metadata": {},
   "source": [
    "## Preprocessing"
   ]
  },
  {
   "cell_type": "code",
   "execution_count": 6,
   "metadata": {},
   "outputs": [],
   "source": [
    "def feature_engineering(dataframe):\n",
    "    dataframe['hp_per_weight'] = dataframe.loc[:,'hp'] / dataframe.loc[:,'wt']\n",
    "    return(dataframe)"
   ]
  },
  {
   "cell_type": "code",
   "execution_count": 7,
   "metadata": {},
   "outputs": [
    {
     "name": "stderr",
     "output_type": "stream",
     "text": [
      "/home/larxel/anaconda3/lib/python3.7/site-packages/ipykernel_launcher.py:2: SettingWithCopyWarning: \n",
      "A value is trying to be set on a copy of a slice from a DataFrame.\n",
      "Try using .loc[row_indexer,col_indexer] = value instead\n",
      "\n",
      "See the caveats in the documentation: http://pandas.pydata.org/pandas-docs/stable/indexing.html#indexing-view-versus-copy\n",
      "  \n"
     ]
    }
   ],
   "source": [
    "# Apply feature engineering\n",
    "train = feature_engineering(train)\n",
    "test  = feature_engineering(test)"
   ]
  },
  {
   "cell_type": "markdown",
   "metadata": {},
   "source": [
    "## Fit Model"
   ]
  },
  {
   "cell_type": "code",
   "execution_count": 8,
   "metadata": {},
   "outputs": [
    {
     "data": {
      "text/plain": [
       "RandomForestRegressor(bootstrap=True, criterion='mse', max_depth=None,\n",
       "           max_features='auto', max_leaf_nodes=None,\n",
       "           min_impurity_decrease=0.0, min_impurity_split=None,\n",
       "           min_samples_leaf=1, min_samples_split=2,\n",
       "           min_weight_fraction_leaf=0.0, n_estimators=501, n_jobs=None,\n",
       "           oob_score=False, random_state=None, verbose=0, warm_start=False)"
      ]
     },
     "execution_count": 8,
     "metadata": {},
     "output_type": "execute_result"
    }
   ],
   "source": [
    "# Train simple model\n",
    "rf_model = RandomForestRegressor(501)\n",
    "rf_model.fit(train,train_y)"
   ]
  },
  {
   "cell_type": "markdown",
   "metadata": {},
   "source": [
    "## Evaluate Results"
   ]
  },
  {
   "cell_type": "code",
   "execution_count": 9,
   "metadata": {},
   "outputs": [
    {
     "name": "stdout",
     "output_type": "stream",
     "text": [
      "MAE: 2.3604191616766443\n",
      "RMSE: 7.460681634734433\n"
     ]
    }
   ],
   "source": [
    "preds = rf_model.predict(test)\n",
    "print('MAE:  {}'.format(mean_absolute_error(test_y, preds)))\n",
    "print('RMSE: {}'.format(mean_squared_error(test_y, preds)))"
   ]
  },
  {
   "cell_type": "code",
   "execution_count": 10,
   "metadata": {},
   "outputs": [
    {
     "data": {
      "text/plain": [
       "['rf_model.pkl']"
      ]
     },
     "execution_count": 10,
     "metadata": {},
     "output_type": "execute_result"
    }
   ],
   "source": [
    "# Export Model to Disk\n",
    "joblib.dump(rf_model, 'model.pkl', compress=False)"
   ]
  },
  {
   "cell_type": "markdown",
   "metadata": {},
   "source": [
    "## Prepare Model Deployment"
   ]
  },
  {
   "cell_type": "code",
   "execution_count": 11,
   "metadata": {},
   "outputs": [],
   "source": [
    "def load_model(filename='model.pkl'):\n",
    "    '''\n",
    "    Load Model Function\n",
    "    \n",
    "    When called, will return the a model loaded into memory.\n",
    "    '''\n",
    "    from sklearn.externals import joblib\n",
    "    return(joblib.load(filename))"
   ]
  },
  {
   "cell_type": "code",
   "execution_count": 12,
   "metadata": {},
   "outputs": [],
   "source": [
    "def predict(model, dataframe):\n",
    "    '''\n",
    "    Generate Prediction Function\n",
    "    \n",
    "    Upon recieving a new observation, will generate a prediction.\n",
    "    '''\n",
    "    dataframe = feature_engineering(dataframe)\n",
    "    result    = model.predict(dataframe)\n",
    "    return(result)"
   ]
  },
  {
   "cell_type": "code",
   "execution_count": 13,
   "metadata": {},
   "outputs": [
    {
     "name": "stderr",
     "output_type": "stream",
     "text": [
      "/media/larxel/Dyson2/Open Deployment/Mtcars/open_deployment.py:477: SyntaxWarning: assertion is always true, perhaps remove parentheses?\n",
      "  assert(inspect.isfunction(load_ml_model_function), \"Object 'load_ml_model_function' is not a function\")\n",
      "/media/larxel/Dyson2/Open Deployment/Mtcars/open_deployment.py:478: SyntaxWarning: assertion is always true, perhaps remove parentheses?\n",
      "  assert(inspect.isfunction(prediction_function), \"Object 'prediction_function' is not a function\")\n"
     ]
    },
    {
     "name": "stdout",
     "output_type": "stream",
     "text": [
      "Dependencies successfully written in file requirements.txt!\n",
      "Directory . already exists\n",
      "FaaS files successfully generated!\n",
      "Zip file successfully generated!\n",
      "yeet!\n"
     ]
    }
   ],
   "source": [
    "import open_deployment as od\n",
    "\n",
    "od.deploy_faas(version='1.0.0',\n",
    "               load_ml_model_function = load_model,\n",
    "               prediction_function    = predict,\n",
    "               model_file = 'model.pkl',\n",
    "               preprocessing_function = feature_engineering\n",
    "              )"
   ]
  }
 ],
 "metadata": {
  "kernelspec": {
   "display_name": "Python 3",
   "language": "python",
   "name": "python3"
  },
  "language_info": {
   "codemirror_mode": {
    "name": "ipython",
    "version": 3
   },
   "file_extension": ".py",
   "mimetype": "text/x-python",
   "name": "python",
   "nbconvert_exporter": "python",
   "pygments_lexer": "ipython3",
   "version": "3.7.3"
  }
 },
 "nbformat": 4,
 "nbformat_minor": 2
}
